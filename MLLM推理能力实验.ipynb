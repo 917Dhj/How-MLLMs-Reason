{
 "cells": [
  {
   "cell_type": "markdown",
   "metadata": {},
   "source": [
    "## InfiMM-Eval数据集"
   ]
  },
  {
   "cell_type": "markdown",
   "metadata": {},
   "source": [
    "### 1. 加载数据集"
   ]
  },
  {
   "cell_type": "code",
   "execution_count": 23,
   "metadata": {},
   "outputs": [
    {
     "name": "stdout",
     "output_type": "stream",
     "text": [
      "                                                 URL  \\\n",
      "0  [https://i.pinimg.com/474x/00/d5/e9/00d5e92cd7...   \n",
      "1  [https://static.independent.co.uk/s3fs-public/...   \n",
      "2  [https://i.pinimg.com/564x/50/4d/98/504d98f9db...   \n",
      "3  [https://i.pinimg.com/564x/1a/37/67/1a3767d9a5...   \n",
      "4  [https://i.pinimg.com/474x/53/d7/d2/53d7d2f33b...   \n",
      "\n",
      "                                   Image path  \\\n",
      "0  [fea128d4-bab4-4c2c-9ee0-faaee9091627.png]   \n",
      "1  [4badc7e5-7713-447e-aa7f-b94164650279.png]   \n",
      "2  [3aa39c3c-1d8b-4b2a-b883-138d2b52e69d.png]   \n",
      "3  [7a775b8e-58b9-4fcf-bacf-4ab6ab2459ad.png]   \n",
      "4  [b2495210-2438-4435-8d48-28acb6b0bc8e.png]   \n",
      "\n",
      "                                            Question   Category  \\\n",
      "0  Do the foreground and background look consiste...  Deductive   \n",
      "1  If I want to read a Shakespearean tragedy, whi...  Deductive   \n",
      "2  If I like paintings with religious theme, whic...  Deductive   \n",
      "3  If I'm observing Mars, which celestial body am...  Deductive   \n",
      "4   If I want to harvest grapes for winemaking, w...  Deductive   \n",
      "\n",
      "  Counter-intuitve Complexity  \n",
      "0             None   Moderate  \n",
      "1             None   Moderate  \n",
      "2             None   Moderate  \n",
      "3             None   Moderate  \n",
      "4             None   Moderate  \n"
     ]
    }
   ],
   "source": [
    "import json\n",
    "import pandas as pd\n",
    "\n",
    "# 1. 加载 JSON 文件\n",
    "with open(\"datasets/InfiMM-Eval/core-mm-wo-answer.json\", \"r\") as f:\n",
    "    raw_data = json.load(f)\n",
    "\n",
    "# 2. 将 dict 转成 list（按 key 排序）\n",
    "samples = [raw_data[k] for k in sorted(raw_data, key=lambda x: int(x))]\n",
    "\n",
    "# 3. 转成 pandas DataFrame（你可以选取需要的字段）\n",
    "df = pd.DataFrame(samples)\n",
    "\n",
    "# 4. 展示前几行\n",
    "print(df.head())"
   ]
  },
  {
   "cell_type": "markdown",
   "metadata": {},
   "source": [
    "### 2. 数据清洗&保存"
   ]
  },
  {
   "cell_type": "code",
   "execution_count": 24,
   "metadata": {},
   "outputs": [],
   "source": [
    "df[\"image_url\"] = df[\"URL\"].apply(lambda x: x[0] if isinstance(x, list) and len(x) > 0 else None)\n",
    "df[\"image_name\"] = df[\"Image path\"].apply(lambda x: x[0] if isinstance(x, list) and len(x) > 0 else None)"
   ]
  },
  {
   "cell_type": "markdown",
   "metadata": {},
   "source": [
    "- 保存为excel表格"
   ]
  },
  {
   "cell_type": "code",
   "execution_count": 25,
   "metadata": {},
   "outputs": [],
   "source": [
    "df[[\"Question\", \"Category\", \"Complexity\", \"image_url\", \"image_name\"]].to_excel(\"datasets/InfiMM-Eval/infimm-eval-cleaned.xlsx\", index=False) "
   ]
  },
  {
   "cell_type": "markdown",
   "metadata": {},
   "source": [
    "### 3. 提取出20个实验数据"
   ]
  },
  {
   "cell_type": "code",
   "execution_count": 26,
   "metadata": {},
   "outputs": [],
   "source": [
    "import pandas as pd\n",
    "\n",
    "# 1. 读取原始表格\n",
    "df = pd.read_excel(\"datasets/InfiMM-Eval/infimm-eval-cleaned.xlsx\")\n",
    "\n",
    "# 2. 定义目标样本数 & 每个难度的数量\n",
    "target_total = 20\n",
    "complexity_quota = {\n",
    "    \"Easy\": 7,\n",
    "    \"Moderate\": 8,\n",
    "    \"Hard\": 5\n",
    "}\n",
    "\n",
    "# 3. 分别从每个难度中采样\n",
    "samples = []\n",
    "for level, quota in complexity_quota.items():\n",
    "    subset = df[df[\"Complexity\"] == level]\n",
    "    n = min(quota, len(subset))  # 避免超抽\n",
    "    sample = subset.sample(n=n, random_state=42)\n",
    "    samples.append(sample)\n",
    "\n",
    "# 4. 合并所有难度\n",
    "sampled = pd.concat(samples, ignore_index=True)\n",
    "\n",
    "# 5. 如果还不足 target_total，就从剩下的 pool 中补足\n",
    "needed = target_total - len(sampled)\n",
    "if needed > 0:\n",
    "    pool = df[~df.index.isin(sampled.index)]\n",
    "    extra = pool.sample(n=needed, random_state=42)\n",
    "    sampled = pd.concat([sampled, extra], ignore_index=True)\n",
    "\n",
    "# 6. 打乱顺序（可选）\n",
    "sampled = sampled.sample(frac=1, random_state=42).reset_index(drop=True)\n",
    "\n",
    "# 7. 保存最终实验样本集\n",
    "sampled.to_excel(\"datasets/InfiMM-Eval/infimm-eval-selected.xlsx\", index=False)"
   ]
  },
  {
   "cell_type": "markdown",
   "metadata": {},
   "source": [
    "### 4. 查看问题类型的分布"
   ]
  },
  {
   "cell_type": "markdown",
   "metadata": {},
   "source": [
    "- 原始数据集中不同问题类型的分布"
   ]
  },
  {
   "cell_type": "code",
   "execution_count": null,
   "metadata": {},
   "outputs": [
    {
     "name": "stdout",
     "output_type": "stream",
     "text": [
      "所有问题类型种类：\n",
      "['Deductive' 'Abductive' 'Analogical']\n",
      "\n",
      "问题类型分布：\n",
      "Category\n",
      "Deductive     181\n",
      "Abductive      49\n",
      "Analogical     49\n",
      "Name: count, dtype: int64\n"
     ]
    }
   ],
   "source": [
    "import pandas as pd\n",
    "\n",
    "# 1. 查看所有出现过的问题类型（种类）\n",
    "categories = df[\"Category\"].unique()\n",
    "print(\"所有问题类型种类：\")\n",
    "print(categories)\n",
    "\n",
    "# 2. 查看每种类型的数量（分布）\n",
    "category_counts = df[\"Category\"].value_counts()\n",
    "print(\"\\n问题类型分布：\")\n",
    "print(category_counts)"
   ]
  },
  {
   "cell_type": "markdown",
   "metadata": {},
   "source": [
    "- 可视化"
   ]
  },
  {
   "cell_type": "code",
   "execution_count": 30,
   "metadata": {},
   "outputs": [
    {
     "data": {
      "image/png": "[encoded data removed]",
      "text/plain": [
       "<Figure size 800x400 with 1 Axes>"
      ]
     },
     "metadata": {},
     "output_type": "display_data"
    }
   ],
   "source": [
    "import matplotlib.pyplot as plt\n",
    "\n",
    "df[\"Category\"].value_counts().plot(kind='bar', figsize=(8, 4), title=\"Question Type Distribution\")\n",
    "plt.xlabel(\"Question Type\")\n",
    "plt.ylabel(\"Count\")\n",
    "plt.xticks(rotation=45)\n",
    "plt.tight_layout()\n",
    "plt.show()"
   ]
  }
 ],
 "metadata": {
  "kernelspec": {
   "display_name": "mllm_resoning",
   "language": "python",
   "name": "python3"
  },
  "language_info": {
   "codemirror_mode": {
    "name": "ipython",
    "version": 3
   },
   "file_extension": ".py",
   "mimetype": "text/x-python",
   "name": "python",
   "nbconvert_exporter": "python",
   "pygments_lexer": "ipython3",
   "version": "3.9.21"
  }
 },
 "nbformat": 4,
 "nbformat_minor": 2
}
